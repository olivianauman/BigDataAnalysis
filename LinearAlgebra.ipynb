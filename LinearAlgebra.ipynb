{
  "nbformat": 4,
  "nbformat_minor": 0,
  "metadata": {
    "colab": {
      "name": "Untitled2.ipynb",
      "provenance": [],
      "collapsed_sections": [],
      "include_colab_link": true
    },
    "kernelspec": {
      "name": "python3",
      "display_name": "Python 3"
    }
  },
  "cells": [
    {
      "cell_type": "markdown",
      "metadata": {
        "id": "view-in-github",
        "colab_type": "text"
      },
      "source": [
        "<a href=\"https://colab.research.google.com/github/olivianauman/BigDataAnalysis/blob/master/LinearAlgebra.ipynb\" target=\"_parent\"><img src=\"https://colab.research.google.com/assets/colab-badge.svg\" alt=\"Open In Colab\"/></a>"
      ]
    },
    {
      "cell_type": "code",
      "metadata": {
        "id": "smQfJO6fYwbt",
        "colab_type": "code",
        "colab": {
          "base_uri": "https://localhost:8080/",
          "height": 35
        },
        "outputId": "c1e8c374-2533-454e-f133-1499eacbbb6c"
      },
      "source": [
        "import time\n",
        "\n",
        "t0 = time.time() # gives current time\n",
        "time.sleep(3)\n",
        "t1 = time.time()\n",
        "\n",
        "print(t1 - t0)\n",
        "\n"
      ],
      "execution_count": 1,
      "outputs": [
        {
          "output_type": "stream",
          "text": [
            "3.0042974948883057\n"
          ],
          "name": "stdout"
        }
      ]
    },
    {
      "cell_type": "code",
      "metadata": {
        "id": "x8pnhZviZmHW",
        "colab_type": "code",
        "colab": {}
      },
      "source": [
        "import numpy\n",
        "\n",
        "N = 100000\n",
        "d = 5000\n",
        "\n",
        "X = np.random.normal(loc=0, scale=1, size=[N,d])\n",
        "Y = np.random.normal(loc=0, scale=1, size=[N,1])\n",
        "\n",
        "t0 = time.time()\n",
        "XTX = np.matmul(X.T, X)\n",
        "t1 = time.time()\n",
        "print(t1 - t0)\n",
        "\n",
        "t0 = time.time()\n",
        "inv = np.linalg.inv(XTX)\n",
        "t1 = time.time()\n",
        "print(t1-t0)\n",
        "\n",
        "t0 = time.time()\n",
        "XTXXT = np.matmul(inv, X.T)\n",
        "t1 = time.time()\n",
        "print(t1 - t0)\n",
        "\n",
        "t0 = time.time()\n",
        "XTXXTY = np.matmul(inv, Y)\n",
        "t1 = time.time()\n",
        "print(t1 - t0)\n",
        "\n",
        "t0 = time.time()\n",
        "XTY = np.matmul(X.T, Y)\n",
        "t1 = time.time()\n",
        "print(t1 - t0)\n",
        "\n",
        "t0 = time.time()\n",
        "XTXXT = np.matmul(inv, XTY)\n",
        "t1 = time.time()\n",
        "print(t1 - t0)"
      ],
      "execution_count": 0,
      "outputs": []
    }
  ]
}